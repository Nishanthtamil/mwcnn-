{
 "cells": [
  {
   "cell_type": "code",
   "execution_count": 6,
   "id": "c48cb20a-2cb7-42c6-8618-f4e17db854d0",
   "metadata": {},
   "outputs": [],
   "source": [
    "import tensorflow as tf\n",
    "from tensorflow.keras.layers import Conv2D, Input\n",
    "from tensorflow.keras.models import Model\n",
    "from sklearn.model_selection import train_test_split\n",
    "import numpy as np\n",
    "import os\n",
    "import cv2\n",
    "import pywt\n",
    "import matplotlib.pyplot as plt\n",
    "\n",
    "# Function to load images from a folder and resize them\n",
    "def load_images_from_folder(folder, pattern, target_size=(224, 224)):\n",
    "    images = []\n",
    "    for filename in sorted(os.listdir(folder)):\n",
    "        if filename.endswith(pattern):\n",
    "            img = cv2.imread(os.path.join(folder, filename))\n",
    "            if img is not None:\n",
    "                img = cv2.cvtColor(img, cv2.COLOR_BGR2RGB)\n",
    "                img = cv2.resize(img, target_size)  # Resize to target size\n",
    "                images.append(img)\n",
    "    return np.array(images)\n",
    "\n",
    "# Function to perform DWT\n",
    "def dwt2d(x):\n",
    "    coeffs = pywt.dwt2(x, 'haar')\n",
    "    cA, (cH, cV, cD) = coeffs\n",
    "    return np.stack((cA, cH, cV, cD), axis=-1)\n",
    "\n",
    "# Function to perform IDWT\n",
    "def idwt2d(coeffs):\n",
    "    cA, cH, cV, cD = coeffs[..., 0], coeffs[..., 1], coeffs[..., 2], coeffs[..., 3]\n",
    "    return pywt.idwt2((cA, (cH, cV, cD)), 'haar')\n",
    "\n",
    "# Apply DWT to a batch of images\n",
    "def batch_dwt2d(images):\n",
    "    return np.array([dwt2d(image) for image in images])\n",
    "\n",
    "# Apply IDWT to a batch of wavelet coefficients\n",
    "def batch_idwt2d(coeffs):\n",
    "    return np.array([idwt2d(coeff) for coeff in coeffs])\n",
    "\n",
    "# Add noise to images\n",
    "def add_noise(images, noise_factor=0.1):\n",
    "    noisy_images = images + noise_factor * np.random.randn(*images.shape)\n",
    "    noisy_images = np.clip(noisy_images, 0., 1.)\n",
    "    return noisy_images\n"
   ]
  },
  {
   "cell_type": "markdown",
   "id": "c35b675f-33f3-42ed-a734-38b982df4b84",
   "metadata": {},
   "source": [
    "# Check the contents of the folder\n",
    "clean_folder_path = 'noise image/wild detect'\n",
    "print(\"Files in folder:\", os.listdir(clean_folder_path))\n",
    "\n",
    "# Load the clean images\n",
    "X_clean = load_images_from_folder(clean_folder_path, '.png')\n",
    "\n",
    "# Check if images are loaded\n",
    "if len(X_clean) == 0:\n",
    "    raise ValueError(\"No clean images loaded.\")\n",
    "\n",
    "# Normalize the images\n",
    "X_clean = X_clean / 255.0\n",
    "\n",
    "# Generate noisy images\n",
    "X_noisy = add_noise(X_clean)\n",
    "\n",
    "# Apply DWT to the images\n",
    "X_clean_dwt = batch_dwt2d(X_clean)\n",
    "X_noisy_dwt = batch_dwt2d(X_noisy)\n",
    "\n",
    "# Split the dataset into training and test sets (80-20 split)\n",
    "X_train, X_test, X_train_noisy, X_test_noisy = train_test_split(X_clean_dwt, X_noisy_dwt, test_size=0.2, random_state=42)\n"
   ]
  },
  {
   "cell_type": "code",
   "execution_count": 11,
   "id": "e31a6bd6-5445-49b3-9e00-a3e2600c73d7",
   "metadata": {},
   "outputs": [
    {
     "data": {
      "text/plain": [
       "(44, 224, 112, 2, 4)"
      ]
     },
     "execution_count": 11,
     "metadata": {},
     "output_type": "execute_result"
    }
   ],
   "source": [
    "X_train.shape"
   ]
  },
  {
   "cell_type": "code",
   "execution_count": 15,
   "id": "8a529bc5-3ff1-4c28-aab0-73419ce60c99",
   "metadata": {},
   "outputs": [
    {
     "name": "stdout",
     "output_type": "stream",
     "text": [
      "Model: \"model_1\"\n",
      "_________________________________________________________________\n",
      " Layer (type)                Output Shape              Param #   \n",
      "=================================================================\n",
      " input_2 (InputLayer)        [(None, 224, 112, 2, 4)]  0         \n",
      "                                                                 \n",
      " conv2d_4 (Conv2D)           (None, 224, 112, 2, 64)   2368      \n",
      "                                                                 \n",
      " conv2d_5 (Conv2D)           (None, 224, 112, 2, 64)   36928     \n",
      "                                                                 \n",
      " conv2d_6 (Conv2D)           (None, 224, 112, 2, 64)   36928     \n",
      "                                                                 \n",
      " conv2d_7 (Conv2D)           (None, 224, 112, 2, 4)    2308      \n",
      "                                                                 \n",
      "=================================================================\n",
      "Total params: 78,532\n",
      "Trainable params: 78,532\n",
      "Non-trainable params: 0\n",
      "_________________________________________________________________\n"
     ]
    }
   ],
   "source": [
    "def mwcnn(input_shape):\n",
    "    input_img = Input(shape=input_shape)\n",
    "\n",
    "    # Encoder\n",
    "    x = Conv2D(64, (3, 3), activation='relu', padding='same')(input_img)\n",
    "    x = Conv2D(64, (3, 3), activation='relu', padding='same')(x)\n",
    "\n",
    "    # Decoder\n",
    "    x = Conv2D(64, (3, 3), activation='relu', padding='same')(x)\n",
    "    decoded = Conv2D(4, (3, 3), activation='sigmoid', padding='same')(x)\n",
    "\n",
    "    # Model\n",
    "    model = Model(input_img, decoded)\n",
    "    model.compile(optimizer='adam', loss='mean_squared_error',metrics=\"accuracy\")\n",
    "    model.summary()\n",
    "    return model\n",
    "\n",
    "# Define and compile the model\n",
    "input_shape = X_train_noisy.shape[1:]\n",
    "model = mwcnn(input_shape)\n"
   ]
  },
  {
   "cell_type": "markdown",
   "id": "ad189c85-7077-4846-a899-16992c0f20fd",
   "metadata": {},
   "source": [
    "# Train the model\n",
    "history = model.fit(X_train_noisy, X_train, epochs=50, batch_size=16, validation_data=(X_test_noisy, X_test))\n",
    "\n",
    "# Save the model\n",
    "#model.save('mwcnn_dwt_idwt_model.h5')\n"
   ]
  },
  {
   "cell_type": "code",
   "execution_count": 17,
   "id": "ef378592-1c57-4721-9377-b889defba427",
   "metadata": {},
   "outputs": [
    {
     "name": "stderr",
     "output_type": "stream",
     "text": [
      "WARNING:absl:Found untraced functions such as _jit_compiled_convolution_op, _jit_compiled_convolution_op, _jit_compiled_convolution_op, _jit_compiled_convolution_op while saving (showing 4 of 4). These functions will not be directly callable after loading.\n"
     ]
    },
    {
     "name": "stdout",
     "output_type": "stream",
     "text": [
      "INFO:tensorflow:Assets written to: E:\\mwcnn for wild\\assets\n"
     ]
    },
    {
     "name": "stderr",
     "output_type": "stream",
     "text": [
      "INFO:tensorflow:Assets written to: E:\\mwcnn for wild\\assets\n"
     ]
    }
   ],
   "source": [
    "model.save(\"E:\\mwcnn for wild\")"
   ]
  },
  {
   "cell_type": "markdown",
   "id": "0c0c0160-b990-4f8b-a6a0-a531e1e29cee",
   "metadata": {},
   "source": [
    "# Test the model\n",
    "predictions = model.predict(X_test_noisy)\n",
    "\n",
    "# Apply IDWT to get the final denoised images\n",
    "denoised_images = batch_idwt2d(predictions)\n",
    "\n",
    "# Function to display images\n",
    "def display_images(noisy, clean, denoised, n=5):\n",
    "    plt.figure(figsize=(15, 5))\n",
    "    for i in range(n):\n",
    "        # Noisy image\n",
    "        plt.subplot(3, n, i + 1)\n",
    "        plt.imshow(noisy[i])\n",
    "        plt.title('Noisy')\n",
    "        plt.axis('off')\n",
    "\n",
    "        # Clean image (Ground Truth)\n",
    "        plt.subplot(3, n, i + n + 1)\n",
    "        plt.imshow(clean[i])\n",
    "        plt.title('Clean')\n",
    "        plt.axis('off')\n",
    "\n",
    "        # Denoised image (Predicted)\n",
    "        plt.subplot(3, n, i + 2*n + 1)\n",
    "        plt.imshow(denoised[i])\n",
    "        plt.title('Denoised')\n",
    "        plt.axis('off')\n",
    "\n",
    "    plt.show()\n",
    "\n",
    "# Display images\n",
    "display_images(batch_idwt2d(X_test_noisy), batch_idwt2d(X_test), denoised_images, n=5)\n"
   ]
  }
 ],
 "metadata": {
  "kernelspec": {
   "display_name": "Python 3 (ipykernel)",
   "language": "python",
   "name": "python3"
  },
  "language_info": {
   "codemirror_mode": {
    "name": "ipython",
    "version": 3
   },
   "file_extension": ".py",
   "mimetype": "text/x-python",
   "name": "python",
   "nbconvert_exporter": "python",
   "pygments_lexer": "ipython3",
   "version": "3.10.14"
  }
 },
 "nbformat": 4,
 "nbformat_minor": 5
}
